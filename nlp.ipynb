{
 "cells": [
  {
   "cell_type": "code",
   "execution_count": 3,
   "metadata": {},
   "outputs": [],
   "source": [
    "from selenium import webdriver\n",
    "from selenium.webdriver.chrome.service import Service\n",
    "from selenium.webdriver.chrome.options import Options\n",
    "from selenium.webdriver.common.by import By\n",
    "from webdriver_manager.chrome import ChromeDriverManager\n",
    "from nltk.tokenize import RegexpTokenizer\n",
    "from nltk.corpus import stopwords\n",
    "import pandas as pd\n",
    "import plotly.express as px"
   ]
  },
  {
   "cell_type": "code",
   "execution_count": 4,
   "metadata": {},
   "outputs": [],
   "source": [
    "class WebText:\n",
    "    def __init__(self, driver = None):\n",
    "        self.driver = driver\n",
    "        self.options = Options()\n",
    "        self.options.add_argument('--headless')\n",
    "        if self.driver == None:\n",
    "            self.driver = webdriver.Chrome(options = self.options, service = Service(ChromeDriverManager().install()))\n",
    "\n",
    "    def get_url(self):\n",
    "        #self.url = 'https://pt.wikipedia.org/wiki/Alexandre_Nero'\n",
    "        self.url = input('URL: ')\n",
    "        if not self.url.startswith('https://'):\n",
    "            url = f'https://{url}'\n",
    "        self.driver.get(self.url)\n",
    "\n",
    "    def process_text(self):\n",
    "        html = self.driver.find_element(By.TAG_NAME, 'html')\n",
    "        #A página deve estar no idioma português\n",
    "        if html.get_attribute('lang') not in ['pt', 'PT', 'pt-BR', 'pt_BR', 'pt-br', 'pt_br', 'PT-BR', 'PT_BR', 'PT-br', 'PT_br']:\n",
    "            print('A página não está em português.')\n",
    "        else:\n",
    "            #Obtém o texto da página inteira\n",
    "            text = html.text\n",
    "            #Retira as quebras de linha (\\n)\n",
    "            text = text.replace('\\\\n', '')\n",
    "            #Usa Regex para pegar apenas termos que possuam letras e números\n",
    "            tokenizer = RegexpTokenizer('\\w+')\n",
    "            tokens = tokenizer.tokenize(text)\n",
    "            #letras minúsculas e remoção de números\n",
    "            tokens = [word.lower() for word in tokens if not word.isdigit()]\n",
    "            #remoção de stopwords\n",
    "            sw = stopwords.words('portuguese')\n",
    "            tokens = [word for word in tokens if word not in sw]\n",
    "            return tokens\n",
    "\n",
    "    def word_count(self):\n",
    "        #Exibição final dos dados obtidos\n",
    "        tokens = self.process_text()\n",
    "        df = pd.DataFrame(tokens).rename(columns = {0: 'termos'})\n",
    "        value_counts = df.value_counts().reset_index().rename(columns = {0: 'contagem'})[:20]\n",
    "        fig = px.bar(value_counts, x = 'termos', y = 'contagem', color = 'termos', title = 'Os 20 termos que mais aparecem na página')\n",
    "        fig.show()\n"
   ]
  },
  {
   "cell_type": "code",
   "execution_count": 5,
   "metadata": {},
   "outputs": [
    {
     "name": "stderr",
     "output_type": "stream",
     "text": [
      "\n",
      "\n",
      "====== WebDriver manager ======\n",
      "Current google-chrome version is 97.0.4692\n",
      "Get LATEST chromedriver version for 97.0.4692 google-chrome\n",
      "Driver [/home/rafaelcoelho/.wdm/drivers/chromedriver/linux64/97.0.4692.71/chromedriver] found in cache\n"
     ]
    }
   ],
   "source": [
    "webtext = WebText()"
   ]
  },
  {
   "cell_type": "code",
   "execution_count": 6,
   "metadata": {},
   "outputs": [
    {
     "data": {
      "text/plain": [
       "['saltar',\n",
       " 'conteúdo',\n",
       " 'alternar',\n",
       " 'barra',\n",
       " 'lateral',\n",
       " 'busca',\n",
       " 'criar',\n",
       " 'conta',\n",
       " 'ferramentas',\n",
       " 'pessoais',\n",
       " 'artigo',\n",
       " 'discussão',\n",
       " 'ler',\n",
       " 'editar',\n",
       " 'ver',\n",
       " 'histórico',\n",
       " 'página',\n",
       " 'principal',\n",
       " 'conteúdo',\n",
       " 'destacado',\n",
       " 'eventos',\n",
       " 'atuais',\n",
       " 'esplanada',\n",
       " 'página',\n",
       " 'aleatória',\n",
       " 'portais',\n",
       " 'informar',\n",
       " 'erro',\n",
       " 'colaboração',\n",
       " 'boas',\n",
       " 'vindas',\n",
       " 'ajuda',\n",
       " 'página',\n",
       " 'testes',\n",
       " 'portal',\n",
       " 'comunitário',\n",
       " 'mudanças',\n",
       " 'recentes',\n",
       " 'manutenção',\n",
       " 'criar',\n",
       " 'página',\n",
       " 'páginas',\n",
       " 'novas',\n",
       " 'contato',\n",
       " 'donativos',\n",
       " 'ferramentas',\n",
       " 'páginas',\n",
       " 'afluentes',\n",
       " 'alterações',\n",
       " 'relacionadas',\n",
       " 'carregar',\n",
       " 'ficheiro',\n",
       " 'páginas',\n",
       " 'especiais',\n",
       " 'hiperligação',\n",
       " 'permanente',\n",
       " 'informações',\n",
       " 'página',\n",
       " 'citar',\n",
       " 'página',\n",
       " 'elemento',\n",
       " 'wikidata',\n",
       " 'editar',\n",
       " 'hiperligações',\n",
       " 'interlínguas',\n",
       " 'imprimir',\n",
       " 'exportar',\n",
       " 'criar',\n",
       " 'livro',\n",
       " 'descarregar',\n",
       " 'pdf',\n",
       " 'versão',\n",
       " 'impressão',\n",
       " 'noutros',\n",
       " 'projetos',\n",
       " 'wikimedia',\n",
       " 'commons',\n",
       " 'idiomas',\n",
       " 'nesta',\n",
       " 'wikipédia',\n",
       " 'atalhos',\n",
       " 'idioma',\n",
       " 'parte',\n",
       " 'superior',\n",
       " 'página',\n",
       " 'frente',\n",
       " 'título',\n",
       " 'artigo',\n",
       " 'ocultar',\n",
       " 'línguas',\n",
       " 'alexandre',\n",
       " 'nero',\n",
       " 'origem',\n",
       " 'wikipédia',\n",
       " 'enciclopédia',\n",
       " 'livre',\n",
       " 'página',\n",
       " 'cita',\n",
       " 'fontes',\n",
       " 'cobrem',\n",
       " 'todo',\n",
       " 'conteúdo',\n",
       " 'ajude',\n",
       " 'inserir',\n",
       " 'referências',\n",
       " 'conteúdo',\n",
       " 'verificável',\n",
       " 'poderá',\n",
       " 'ser',\n",
       " 'removido',\n",
       " 'encontre',\n",
       " 'fontes',\n",
       " 'google',\n",
       " 'notícias',\n",
       " 'livros',\n",
       " 'acadêmico',\n",
       " 'outubro',\n",
       " 'alexandre',\n",
       " 'nero',\n",
       " 'nero',\n",
       " 'prêmio',\n",
       " 'música',\n",
       " 'brasileira',\n",
       " 'nome',\n",
       " 'completo',\n",
       " 'alexandre',\n",
       " 'nero',\n",
       " 'vieira',\n",
       " 'nascimento',\n",
       " 'fevereiro',\n",
       " 'anos',\n",
       " 'curitiba',\n",
       " 'pr',\n",
       " 'nacionalidade',\n",
       " 'brasileiro',\n",
       " 'estatura',\n",
       " '80m',\n",
       " 'cônjuge',\n",
       " 'fabiula',\n",
       " 'nascimento',\n",
       " 'c',\n",
       " 'karen',\n",
       " 'brusttolin',\n",
       " 'c',\n",
       " 'ocupação',\n",
       " 'ator',\n",
       " 'cantor',\n",
       " 'compositor',\n",
       " 'multi',\n",
       " 'instrumentista',\n",
       " 'período',\n",
       " 'atividade',\n",
       " 'presente',\n",
       " 'prêmios',\n",
       " 'lista',\n",
       " 'prêmios',\n",
       " 'carreira',\n",
       " 'musical',\n",
       " 'período',\n",
       " 'musical',\n",
       " 'presente',\n",
       " 'gênero',\n",
       " 's',\n",
       " 'mpb',\n",
       " 'instrumento',\n",
       " 's',\n",
       " 'lista',\n",
       " 'expandir',\n",
       " 'alexandre',\n",
       " 'nero',\n",
       " 'vieira',\n",
       " 'curitiba',\n",
       " 'fevereiro',\n",
       " 'ator',\n",
       " 'cantor',\n",
       " 'compositor',\n",
       " 'multi',\n",
       " 'instrumentista',\n",
       " 'brasileiro',\n",
       " 'primeiro',\n",
       " 'personagem',\n",
       " 'destaque',\n",
       " 'novela',\n",
       " 'favorita',\n",
       " 'verdureiro',\n",
       " 'vanderlei',\n",
       " 'interpretou',\n",
       " 'antagonista',\n",
       " 'principal',\n",
       " 'novela',\n",
       " 'seis',\n",
       " 'escrito',\n",
       " 'estrelas',\n",
       " 'ano',\n",
       " 'seguinte',\n",
       " 'interpretou',\n",
       " 'baltazar',\n",
       " 'novela',\n",
       " 'nove',\n",
       " 'fina',\n",
       " 'estampa',\n",
       " 'homem',\n",
       " 'violentava',\n",
       " 'esposa',\n",
       " 'lançou',\n",
       " 'terceiro',\n",
       " 'álbum',\n",
       " 'estúdio',\n",
       " 'vendo',\n",
       " 'amor',\n",
       " 'primeiro',\n",
       " 'dvd',\n",
       " 'revendo',\n",
       " 'amor',\n",
       " 'pouco',\n",
       " 'uso',\n",
       " 'quase',\n",
       " 'caixa',\n",
       " 'deu',\n",
       " 'vida',\n",
       " 'personagem',\n",
       " 'stênio',\n",
       " 'salve',\n",
       " 'jorge',\n",
       " 'interpretou',\n",
       " 'primeiro',\n",
       " 'protagonista',\n",
       " 'horário',\n",
       " 'nobre',\n",
       " 'lendário',\n",
       " 'josé',\n",
       " 'alfredo',\n",
       " 'medeiros',\n",
       " 'novela',\n",
       " 'império',\n",
       " 'personagem',\n",
       " 'nero',\n",
       " 'ganhou',\n",
       " 'melhores',\n",
       " 'ano',\n",
       " 'contigo',\n",
       " 'troféu',\n",
       " 'imprensa',\n",
       " 'melhor',\n",
       " 'ator',\n",
       " 'interpretou',\n",
       " 'dúbio',\n",
       " 'romero',\n",
       " 'romulo',\n",
       " 'novela',\n",
       " 'regra',\n",
       " 'jogo',\n",
       " 'sendo',\n",
       " 'indicado',\n",
       " 'emmy',\n",
       " 'internacional',\n",
       " 'melhor',\n",
       " 'ator',\n",
       " 'considerado',\n",
       " 'principal',\n",
       " 'prêmio',\n",
       " 'televisão',\n",
       " 'mundial',\n",
       " 'viveu',\n",
       " 'geraldo',\n",
       " 'série',\n",
       " 'filhos',\n",
       " 'prátria',\n",
       " 'interpretou',\n",
       " 'pedro',\n",
       " 'supersérie',\n",
       " 'onde',\n",
       " 'nascem',\n",
       " 'fortes',\n",
       " 'vive',\n",
       " 'diabólico',\n",
       " 'tonico',\n",
       " 'novela',\n",
       " 'tempos',\n",
       " 'imperador',\n",
       " 'índice',\n",
       " 'carreira',\n",
       " 'vida',\n",
       " 'pessoal',\n",
       " 'filmografia',\n",
       " 'televisão',\n",
       " 'cinema',\n",
       " 'internet',\n",
       " 'teatro',\n",
       " 'discografia',\n",
       " 'solo',\n",
       " 'grupo',\n",
       " 'trilhas',\n",
       " 'sonoras',\n",
       " 'prêmios',\n",
       " 'indicações',\n",
       " 'referências',\n",
       " 'ligações',\n",
       " 'externas',\n",
       " 'carreira',\n",
       " 'músico',\n",
       " 'ator',\n",
       " 'acumula',\n",
       " 'trabalhos',\n",
       " 'espetáculos',\n",
       " 'música',\n",
       " 'teatro',\n",
       " 'cinema',\n",
       " 'tv',\n",
       " 'dança',\n",
       " 'idealizador',\n",
       " 'criador',\n",
       " 'associação',\n",
       " 'compositores',\n",
       " 'cidade',\n",
       " 'curitiba',\n",
       " 'fundada',\n",
       " 'integrante',\n",
       " 'grupo',\n",
       " 'fato',\n",
       " 'frente',\n",
       " 'banda',\n",
       " 'maquinaíma',\n",
       " 'grupo',\n",
       " 'fez',\n",
       " 'grande',\n",
       " 'sucesso',\n",
       " 'cenário',\n",
       " 'musical',\n",
       " 'curitibano',\n",
       " 'tocando',\n",
       " 'todas',\n",
       " 'sextas',\n",
       " 'feiras',\n",
       " 'aoca',\n",
       " 'bar',\n",
       " 'além',\n",
       " 'maquinaíma',\n",
       " 'nero',\n",
       " 'vocalistas',\n",
       " 'grupo',\n",
       " 'denorex',\n",
       " 'onde',\n",
       " 'apresentava',\n",
       " 'turnês',\n",
       " 'mensais',\n",
       " 'john',\n",
       " 'bull',\n",
       " 'music',\n",
       " 'hall',\n",
       " 'interpretando',\n",
       " 'maiores',\n",
       " 'sucessos',\n",
       " 'anos',\n",
       " 'ator',\n",
       " 'ganhou',\n",
       " 'repercussão',\n",
       " 'nacional',\n",
       " 'interpretar',\n",
       " 'verdureiro',\n",
       " 'analfabeto',\n",
       " 'vanderlei',\n",
       " 'favorita',\n",
       " 'porém',\n",
       " 'personagem',\n",
       " 'pouco',\n",
       " 'destaque',\n",
       " 'porém',\n",
       " 'acabou',\n",
       " 'ganhando',\n",
       " 'prestígio',\n",
       " 'reconhecimento',\n",
       " 'remake',\n",
       " 'novela',\n",
       " 'paraíso',\n",
       " 'interpretava',\n",
       " 'braço',\n",
       " 'direito',\n",
       " 'zeca',\n",
       " 'vivido',\n",
       " 'eriberto',\n",
       " 'leão',\n",
       " 'nero',\n",
       " 'prêmio',\n",
       " 'música',\n",
       " 'brasileira',\n",
       " 'theatro',\n",
       " 'municipal',\n",
       " 'centro',\n",
       " 'rio',\n",
       " 'janeiro',\n",
       " 'rj',\n",
       " 'atuou',\n",
       " 'novela',\n",
       " 'escrito',\n",
       " 'estrelas',\n",
       " 'onde',\n",
       " 'interpretou',\n",
       " 'gilmar',\n",
       " 'vilão',\n",
       " 'trama',\n",
       " 'telenovela',\n",
       " 'fina',\n",
       " 'estampa',\n",
       " 'aguinaldo',\n",
       " 'silva',\n",
       " 'interpretando',\n",
       " 'baltazar',\n",
       " 'personagem',\n",
       " 'personalidade',\n",
       " 'violenta',\n",
       " 'homofóbica',\n",
       " 'convidado',\n",
       " 'participar',\n",
       " 'novela',\n",
       " 'salve',\n",
       " 'jorge',\n",
       " 'glória',\n",
       " 'perez',\n",
       " 'nero',\n",
       " 'interpretou',\n",
       " 'stênio',\n",
       " 'advogado',\n",
       " 'vaidoso',\n",
       " 'vivia',\n",
       " 'turras',\n",
       " 'ex',\n",
       " 'esposa',\n",
       " 'helô',\n",
       " 'interpretada',\n",
       " 'giovanna',\n",
       " 'antonelli',\n",
       " 'interpretou',\n",
       " 'hermes',\n",
       " 'além',\n",
       " 'horizonte',\n",
       " 'antes',\n",
       " 'término',\n",
       " 'além',\n",
       " 'horizonte',\n",
       " 'ator',\n",
       " 'deixou',\n",
       " 'novela',\n",
       " 'interpretar',\n",
       " 'josé',\n",
       " 'alfredo',\n",
       " 'medeiros',\n",
       " 'personagem',\n",
       " 'principal',\n",
       " 'império',\n",
       " 'novela',\n",
       " 'aguinaldo',\n",
       " 'silva',\n",
       " 'trabalho',\n",
       " 'ator',\n",
       " 'ganhou',\n",
       " 'fama',\n",
       " 'repercussão',\n",
       " 'nacional',\n",
       " 'sendo',\n",
       " 'bastante',\n",
       " 'elogiado',\n",
       " 'comendador',\n",
       " 'josé',\n",
       " 'alfredo',\n",
       " 'nero',\n",
       " 'ganhou',\n",
       " 'inclusive',\n",
       " 'prêmio',\n",
       " 'melhores',\n",
       " 'ano',\n",
       " 'ano',\n",
       " 'seguinte',\n",
       " 'troféu',\n",
       " 'imprensa',\n",
       " 'atuação',\n",
       " 'ambos',\n",
       " 'categoria',\n",
       " 'melhor',\n",
       " 'ator',\n",
       " 'fez',\n",
       " 'participação',\n",
       " 'último',\n",
       " 'episódio',\n",
       " 'segunda',\n",
       " 'temporada',\n",
       " 'tá',\n",
       " 'ar',\n",
       " 'tv',\n",
       " 'tv',\n",
       " 'personagem',\n",
       " 'império',\n",
       " 'comendador',\n",
       " 'josé',\n",
       " 'alfredo',\n",
       " 'meses',\n",
       " 'após',\n",
       " 'término',\n",
       " 'império',\n",
       " 'escalado',\n",
       " 'novela',\n",
       " 'regra',\n",
       " 'jogo',\n",
       " 'fez',\n",
       " 'novamente',\n",
       " 'personagem',\n",
       " 'principal',\n",
       " 'contracenando',\n",
       " 'vez',\n",
       " 'giovanna',\n",
       " 'antonelli',\n",
       " 'protagonistas',\n",
       " 'série',\n",
       " 'filhos',\n",
       " 'pátria',\n",
       " 'interpretando',\n",
       " 'geraldo',\n",
       " 'protagonizou',\n",
       " 'série',\n",
       " 'onde',\n",
       " 'nascem',\n",
       " 'fortes',\n",
       " 'interpretando',\n",
       " 'pedro',\n",
       " 'vive',\n",
       " 'vilão',\n",
       " 'tonico',\n",
       " 'novela',\n",
       " 'tempos',\n",
       " 'imperador',\n",
       " 'trama',\n",
       " 'estreia',\n",
       " 'adiada',\n",
       " 'ano',\n",
       " 'conta',\n",
       " 'pandemia',\n",
       " 'covid',\n",
       " 'vida',\n",
       " 'pessoal',\n",
       " 'casado',\n",
       " 'dez',\n",
       " 'anos',\n",
       " 'atriz',\n",
       " 'fabíula',\n",
       " 'nascimento',\n",
       " 'assumiu',\n",
       " 'namoro',\n",
       " 'atriz',\n",
       " 'consultora',\n",
       " 'karen',\n",
       " 'brusttolin',\n",
       " 'casando',\n",
       " 'dia',\n",
       " 'dezembro',\n",
       " 'nasceu',\n",
       " 'noá',\n",
       " 'primeiro',\n",
       " 'filho',\n",
       " 'casal',\n",
       " 'dia',\n",
       " 'setembro',\n",
       " 'nasceu',\n",
       " 'inã',\n",
       " 'segundo',\n",
       " 'filho',\n",
       " 'casal',\n",
       " 'filmografia',\n",
       " 'televisão',\n",
       " 'ano',\n",
       " 'título',\n",
       " 'papel',\n",
       " 'nota',\n",
       " 's',\n",
       " 'casos',\n",
       " 'acasos',\n",
       " 'marcos',\n",
       " 'episódio',\n",
       " 'piloto',\n",
       " 'favorita',\n",
       " 'vanderlei',\n",
       " 'peive',\n",
       " 'paraíso',\n",
       " 'terêncio',\n",
       " 'dó',\n",
       " 'ré',\n",
       " 'mi',\n",
       " 'fábrica',\n",
       " 'lamartine',\n",
       " 'especial',\n",
       " 'final',\n",
       " 'ano',\n",
       " 'escrito',\n",
       " 'estrelas',\n",
       " 'gilmar',\n",
       " 'batendo',\n",
       " 'ponto',\n",
       " 'caíque',\n",
       " 'fina',\n",
       " 'estampa',\n",
       " 'baltazar',\n",
       " 'fonseca',\n",
       " 'zoiúdo',\n",
       " 'salve',\n",
       " 'jorge',\n",
       " 'stênio',\n",
       " 'alencar',\n",
       " 'além',\n",
       " 'horizonte',\n",
       " 'armando',\n",
       " 'carvalho',\n",
       " 'hermes',\n",
       " 'gentalha',\n",
       " 'paulo',\n",
       " 'sulivan',\n",
       " 'episódio',\n",
       " 'comediante',\n",
       " 'império',\n",
       " 'josé',\n",
       " 'alfredo',\n",
       " 'medeiros',\n",
       " 'comendador',\n",
       " 'tá',\n",
       " 'ar',\n",
       " 'tv',\n",
       " 'tv',\n",
       " 'episódio',\n",
       " 'abril',\n",
       " 'regra',\n",
       " 'jogo',\n",
       " 'romero',\n",
       " 'rômulo',\n",
       " 'silva',\n",
       " 'filhos',\n",
       " 'pátria',\n",
       " 'geraldo',\n",
       " 'bulhosa',\n",
       " 'onde',\n",
       " 'nascem',\n",
       " 'fortes',\n",
       " 'pedro',\n",
       " 'gouveia',\n",
       " 'tempos',\n",
       " 'imperador',\n",
       " 'antônio',\n",
       " 'carlos',\n",
       " 'rocha',\n",
       " 'tonico',\n",
       " 'cinema',\n",
       " 'ano',\n",
       " 'título',\n",
       " 'personagem',\n",
       " 'notas',\n",
       " 'rosinha',\n",
       " 'sereia',\n",
       " 'curta',\n",
       " 'metragem',\n",
       " 'preço',\n",
       " 'paz',\n",
       " 'alferes',\n",
       " 'pimentel',\n",
       " 'corpos',\n",
       " 'celestes',\n",
       " 'giovani',\n",
       " 'cilada',\n",
       " 'henrique',\n",
       " 'novela',\n",
       " 'brandão',\n",
       " 'primeiro',\n",
       " 'dia',\n",
       " 'ano',\n",
       " 'qualquer',\n",
       " 'franco',\n",
       " 'crô',\n",
       " 'filme',\n",
       " 'baltazar',\n",
       " 'fonseca',\n",
       " 'zoiúdo',\n",
       " 'faço',\n",
       " 'menor',\n",
       " 'ideia',\n",
       " 'tô',\n",
       " 'fazendo',\n",
       " 'vida',\n",
       " 'tio',\n",
       " 'clara',\n",
       " 'muita',\n",
       " 'calma',\n",
       " 'nessa',\n",
       " 'hora',\n",
       " 'casé',\n",
       " 'getúlio',\n",
       " 'coronel',\n",
       " 'scaffa',\n",
       " 'revendo',\n",
       " 'amor',\n",
       " 'pouco',\n",
       " 'uso',\n",
       " 'quase',\n",
       " 'caixa',\n",
       " 'joão',\n",
       " 'maestro',\n",
       " 'joão',\n",
       " 'carlos',\n",
       " 'martins',\n",
       " 'magníficos',\n",
       " 'documentário',\n",
       " 'albatroz',\n",
       " 'simão',\n",
       " 'alcóbar',\n",
       " 'jaula',\n",
       " 'internet',\n",
       " 'ano',\n",
       " 'título',\n",
       " 'papel',\n",
       " 'nota',\n",
       " 's',\n",
       " 'otávio',\n",
       " 'websérie',\n",
       " 'teatro',\n",
       " 'ano',\n",
       " 'título',\n",
       " 'chicago',\n",
       " 'agora',\n",
       " 'pluft',\n",
       " 'fantasminha',\n",
       " 'processo',\n",
       " 'bruxinha',\n",
       " 'boa',\n",
       " 'linguiça',\n",
       " 'campo',\n",
       " 'leões',\n",
       " 'bolacha',\n",
       " 'maria',\n",
       " 'punhado',\n",
       " 'neve',\n",
       " 'restou',\n",
       " 'tempestade',\n",
       " 'grande',\n",
       " 'sucesso',\n",
       " 'discografia',\n",
       " 'solo',\n",
       " 'álbuns',\n",
       " 'estúdio',\n",
       " 'ano',\n",
       " 'título',\n",
       " 'gravadora',\n",
       " 'camaleão',\n",
       " 'maquinaíma',\n",
       " 'vendo',\n",
       " 'amor',\n",
       " 'discobertas',\n",
       " 'dvd',\n",
       " 'documentário',\n",
       " 'musical',\n",
       " 'ano',\n",
       " 'título',\n",
       " 'distribuidora',\n",
       " 'revendo',\n",
       " 'amor',\n",
       " 'pouco',\n",
       " 'uso',\n",
       " 'quase',\n",
       " 'caixa',\n",
       " 'nova',\n",
       " 'cultura',\n",
       " 'grupo',\n",
       " 'ano',\n",
       " 'nome',\n",
       " 'oquelatá',\n",
       " 'quelateje',\n",
       " 'oquetalá',\n",
       " 'vivo',\n",
       " 'musicaprageada',\n",
       " 'denorex80',\n",
       " 'chic',\n",
       " 'science',\n",
       " 'trilhas',\n",
       " 'sonoras',\n",
       " 'ano',\n",
       " 'nome',\n",
       " 'grande',\n",
       " 'rei',\n",
       " 'leão',\n",
       " 'colecionador',\n",
       " 'destinos',\n",
       " 'prêmios',\n",
       " 'indicações',\n",
       " 'ano',\n",
       " 'prêmio',\n",
       " 'categoria',\n",
       " 'trabalho',\n",
       " 'resultado',\n",
       " 'melhores',\n",
       " 'ano',\n",
       " 'melhor',\n",
       " 'ator',\n",
       " 'revelação',\n",
       " 'favorita',\n",
       " 'indicado',\n",
       " 'prêmio',\n",
       " 'contigo',\n",
       " 'tv',\n",
       " 'melhor',\n",
       " 'ator',\n",
       " 'revelação',\n",
       " 'venceu',\n",
       " 'prêmio',\n",
       " 'extra',\n",
       " 'televisão',\n",
       " 'melhor',\n",
       " 'ator',\n",
       " 'coadjuvante',\n",
       " 'paraíso',\n",
       " 'indicado',\n",
       " 'prêmio',\n",
       " 'televisão',\n",
       " 'melhor',\n",
       " 'ator',\n",
       " 'escrito',\n",
       " 'estrelas',\n",
       " 'indicado',\n",
       " 'prêmio',\n",
       " 'extra',\n",
       " 'televisão',\n",
       " 'melhor',\n",
       " 'ator',\n",
       " 'indicado',\n",
       " 'prêmio',\n",
       " 'qualidade',\n",
       " 'brasil',\n",
       " 'melhor',\n",
       " 'ator',\n",
       " 'coadjuvante',\n",
       " 'venceu',\n",
       " 'prêmio',\n",
       " 'contigo',\n",
       " 'tv',\n",
       " 'melhor',\n",
       " 'ator',\n",
       " 'novela',\n",
       " 'indicado',\n",
       " 'prêmio',\n",
       " 'televisão',\n",
       " 'melhor',\n",
       " 'ator',\n",
       " 'coadjuvante',\n",
       " 'salve',\n",
       " 'jorge',\n",
       " 'venceu',\n",
       " 'prêmio',\n",
       " 'extra',\n",
       " 'televisão',\n",
       " 'melhor',\n",
       " 'ator',\n",
       " 'coadjuvante',\n",
       " 'venceu',\n",
       " 'prêmio',\n",
       " 'contigo',\n",
       " 'tv',\n",
       " 'melhor',\n",
       " 'ator',\n",
       " 'novela',\n",
       " 'indicado',\n",
       " 'troféu',\n",
       " 'apca',\n",
       " 'melhor',\n",
       " 'ator',\n",
       " 'indicado',\n",
       " 'prêmio',\n",
       " 'contigo',\n",
       " 'tv',\n",
       " 'melhor',\n",
       " 'ator',\n",
       " 'coadjuvante',\n",
       " 'além',\n",
       " 'horizonte',\n",
       " 'indicado',\n",
       " 'prêmio',\n",
       " 'extra',\n",
       " 'televisão',\n",
       " 'melhor',\n",
       " 'ator',\n",
       " 'império',\n",
       " 'venceu',\n",
       " 'melhores',\n",
       " 'ano',\n",
       " 'melhor',\n",
       " 'ator',\n",
       " 'novela',\n",
       " 'venceu',\n",
       " 'prêmio',\n",
       " 'televisão',\n",
       " 'melhor',\n",
       " 'ator',\n",
       " 'indicado',\n",
       " 'prêmio',\n",
       " 'contigo',\n",
       " 'tv',\n",
       " 'melhor',\n",
       " 'ator',\n",
       " 'novela',\n",
       " 'venceu',\n",
       " 'troféu',\n",
       " 'internet',\n",
       " 'melhor',\n",
       " 'ator',\n",
       " 'venceu',\n",
       " 'troféu',\n",
       " 'imprensa',\n",
       " 'melhor',\n",
       " 'ator',\n",
       " 'venceu',\n",
       " 'prêmio',\n",
       " 'televisão',\n",
       " 'melhor',\n",
       " 'ator',\n",
       " 'regra',\n",
       " 'jogo',\n",
       " 'venceu',\n",
       " 'prêmio',\n",
       " 'extra',\n",
       " 'televisão',\n",
       " 'melhor',\n",
       " 'ator',\n",
       " 'indicado',\n",
       " 'troféu',\n",
       " 'apca',\n",
       " 'melhor',\n",
       " 'ator',\n",
       " 'venceu',\n",
       " 'melhores',\n",
       " 'ano',\n",
       " 'melhor',\n",
       " 'ator',\n",
       " 'novela',\n",
       " 'venceu',\n",
       " 'troféu',\n",
       " 'imprensa',\n",
       " 'melhor',\n",
       " 'ator',\n",
       " 'indicado',\n",
       " 'troféu',\n",
       " 'internet',\n",
       " 'melhor',\n",
       " 'ator',\n",
       " 'venceu',\n",
       " 'emmy',\n",
       " 'internacional',\n",
       " 'melhor',\n",
       " 'ator',\n",
       " 'indicado',\n",
       " 'prêmio',\n",
       " 'arte',\n",
       " 'qualidade',\n",
       " 'teatro',\n",
       " 'melhor',\n",
       " 'ator',\n",
       " 'espetáculo',\n",
       " 'musical',\n",
       " 'grande',\n",
       " 'sucesso',\n",
       " 'indicado',\n",
       " 'grande',\n",
       " 'prêmio',\n",
       " 'cinema',\n",
       " 'brasileiro',\n",
       " 'melhor',\n",
       " 'ator',\n",
       " 'joão',\n",
       " 'maestro',\n",
       " 'indicado',\n",
       " 'melhores',\n",
       " 'ano',\n",
       " 'ator',\n",
       " 'série',\n",
       " 'minissérie',\n",
       " 'seriado',\n",
       " 'onde',\n",
       " 'nascem',\n",
       " 'fortes',\n",
       " 'venceu',\n",
       " 'prêmio',\n",
       " 'f5',\n",
       " 'melhor',\n",
       " 'ator',\n",
       " 'humor',\n",
       " 'filhos',\n",
       " 'pátria',\n",
       " 'indicado',\n",
       " 'prêmio',\n",
       " 'contigo',\n",
       " 'online',\n",
       " 'melhor',\n",
       " 'ator',\n",
       " 'série',\n",
       " 'venceu',\n",
       " 'melhores',\n",
       " 'ano',\n",
       " 'rd1',\n",
       " 'melhor',\n",
       " ...]"
      ]
     },
     "execution_count": 6,
     "metadata": {},
     "output_type": "execute_result"
    }
   ],
   "source": [
    "webtext.get_url()\n",
    "webtext.process_text()\n"
   ]
  },
  {
   "cell_type": "code",
   "execution_count": 7,
   "metadata": {},
   "outputs": [
    {
     "data": {
      "application/vnd.plotly.v1+json": {
       "config": {
        "plotlyServerURL": "https://plot.ly"
       },
       "data": [
        {
         "alignmentgroup": "True",
         "hovertemplate": "termos=%{x}<br>contagem=%{y}<extra></extra>",
         "legendgroup": "prêmio",
         "marker": {
          "color": "#636efa",
          "pattern": {
           "shape": ""
          }
         },
         "name": "prêmio",
         "offsetgroup": "prêmio",
         "orientation": "v",
         "showlegend": true,
         "textposition": "auto",
         "type": "bar",
         "x": [
          "prêmio"
         ],
         "xaxis": "x",
         "y": [
          57
         ],
         "yaxis": "y"
        },
        {
         "alignmentgroup": "True",
         "hovertemplate": "termos=%{x}<br>contagem=%{y}<extra></extra>",
         "legendgroup": "ator",
         "marker": {
          "color": "#EF553B",
          "pattern": {
           "shape": ""
          }
         },
         "name": "ator",
         "offsetgroup": "ator",
         "orientation": "v",
         "showlegend": true,
         "textposition": "auto",
         "type": "bar",
         "x": [
          "ator"
         ],
         "xaxis": "x",
         "y": [
          53
         ],
         "yaxis": "y"
        },
        {
         "alignmentgroup": "True",
         "hovertemplate": "termos=%{x}<br>contagem=%{y}<extra></extra>",
         "legendgroup": "nero",
         "marker": {
          "color": "#00cc96",
          "pattern": {
           "shape": ""
          }
         },
         "name": "nero",
         "offsetgroup": "nero",
         "orientation": "v",
         "showlegend": true,
         "textposition": "auto",
         "type": "bar",
         "x": [
          "nero"
         ],
         "xaxis": "x",
         "y": [
          52
         ],
         "yaxis": "y"
        },
        {
         "alignmentgroup": "True",
         "hovertemplate": "termos=%{x}<br>contagem=%{y}<extra></extra>",
         "legendgroup": "consultado",
         "marker": {
          "color": "#ab63fa",
          "pattern": {
           "shape": ""
          }
         },
         "name": "consultado",
         "offsetgroup": "consultado",
         "orientation": "v",
         "showlegend": true,
         "textposition": "auto",
         "type": "bar",
         "x": [
          "consultado"
         ],
         "xaxis": "x",
         "y": [
          48
         ],
         "yaxis": "y"
        },
        {
         "alignmentgroup": "True",
         "hovertemplate": "termos=%{x}<br>contagem=%{y}<extra></extra>",
         "legendgroup": "melhor",
         "marker": {
          "color": "#FFA15A",
          "pattern": {
           "shape": ""
          }
         },
         "name": "melhor",
         "offsetgroup": "melhor",
         "orientation": "v",
         "showlegend": true,
         "textposition": "auto",
         "type": "bar",
         "x": [
          "melhor"
         ],
         "xaxis": "x",
         "y": [
          46
         ],
         "yaxis": "y"
        },
        {
         "alignmentgroup": "True",
         "hovertemplate": "termos=%{x}<br>contagem=%{y}<extra></extra>",
         "legendgroup": "alexandre",
         "marker": {
          "color": "#19d3f3",
          "pattern": {
           "shape": ""
          }
         },
         "name": "alexandre",
         "offsetgroup": "alexandre",
         "orientation": "v",
         "showlegend": true,
         "textposition": "auto",
         "type": "bar",
         "x": [
          "alexandre"
         ],
         "xaxis": "x",
         "y": [
          44
         ],
         "yaxis": "y"
        },
        {
         "alignmentgroup": "True",
         "hovertemplate": "termos=%{x}<br>contagem=%{y}<extra></extra>",
         "legendgroup": "tv",
         "marker": {
          "color": "#FF6692",
          "pattern": {
           "shape": ""
          }
         },
         "name": "tv",
         "offsetgroup": "tv",
         "orientation": "v",
         "showlegend": true,
         "textposition": "auto",
         "type": "bar",
         "x": [
          "tv"
         ],
         "xaxis": "x",
         "y": [
          35
         ],
         "yaxis": "y"
        },
        {
         "alignmentgroup": "True",
         "hovertemplate": "termos=%{x}<br>contagem=%{y}<extra></extra>",
         "legendgroup": "novela",
         "marker": {
          "color": "#B6E880",
          "pattern": {
           "shape": ""
          }
         },
         "name": "novela",
         "offsetgroup": "novela",
         "orientation": "v",
         "showlegend": true,
         "textposition": "auto",
         "type": "bar",
         "x": [
          "novela"
         ],
         "xaxis": "x",
         "y": [
          34
         ],
         "yaxis": "y"
        },
        {
         "alignmentgroup": "True",
         "hovertemplate": "termos=%{x}<br>contagem=%{y}<extra></extra>",
         "legendgroup": "ano",
         "marker": {
          "color": "#FF97FF",
          "pattern": {
           "shape": ""
          }
         },
         "name": "ano",
         "offsetgroup": "ano",
         "orientation": "v",
         "showlegend": true,
         "textposition": "auto",
         "type": "bar",
         "x": [
          "ano"
         ],
         "xaxis": "x",
         "y": [
          28
         ],
         "yaxis": "y"
        },
        {
         "alignmentgroup": "True",
         "hovertemplate": "termos=%{x}<br>contagem=%{y}<extra></extra>",
         "legendgroup": "televisão",
         "marker": {
          "color": "#FECB52",
          "pattern": {
           "shape": ""
          }
         },
         "name": "televisão",
         "offsetgroup": "televisão",
         "orientation": "v",
         "showlegend": true,
         "textposition": "auto",
         "type": "bar",
         "x": [
          "televisão"
         ],
         "xaxis": "x",
         "y": [
          25
         ],
         "yaxis": "y"
        },
        {
         "alignmentgroup": "True",
         "hovertemplate": "termos=%{x}<br>contagem=%{y}<extra></extra>",
         "legendgroup": "contigo",
         "marker": {
          "color": "#636efa",
          "pattern": {
           "shape": ""
          }
         },
         "name": "contigo",
         "offsetgroup": "contigo",
         "orientation": "v",
         "showlegend": true,
         "textposition": "auto",
         "type": "bar",
         "x": [
          "contigo"
         ],
         "xaxis": "x",
         "y": [
          20
         ],
         "yaxis": "y"
        },
        {
         "alignmentgroup": "True",
         "hovertemplate": "termos=%{x}<br>contagem=%{y}<extra></extra>",
         "legendgroup": "indicado",
         "marker": {
          "color": "#EF553B",
          "pattern": {
           "shape": ""
          }
         },
         "name": "indicado",
         "offsetgroup": "indicado",
         "orientation": "v",
         "showlegend": true,
         "textposition": "auto",
         "type": "bar",
         "x": [
          "indicado"
         ],
         "xaxis": "x",
         "y": [
          19
         ],
         "yaxis": "y"
        },
        {
         "alignmentgroup": "True",
         "hovertemplate": "termos=%{x}<br>contagem=%{y}<extra></extra>",
         "legendgroup": "melhores",
         "marker": {
          "color": "#00cc96",
          "pattern": {
           "shape": ""
          }
         },
         "name": "melhores",
         "offsetgroup": "melhores",
         "orientation": "v",
         "showlegend": true,
         "textposition": "auto",
         "type": "bar",
         "x": [
          "melhores"
         ],
         "xaxis": "x",
         "y": [
          18
         ],
         "yaxis": "y"
        },
        {
         "alignmentgroup": "True",
         "hovertemplate": "termos=%{x}<br>contagem=%{y}<extra></extra>",
         "legendgroup": "venceu",
         "marker": {
          "color": "#ab63fa",
          "pattern": {
           "shape": ""
          }
         },
         "name": "venceu",
         "offsetgroup": "venceu",
         "orientation": "v",
         "showlegend": true,
         "textposition": "auto",
         "type": "bar",
         "x": [
          "venceu"
         ],
         "xaxis": "x",
         "y": [
          17
         ],
         "yaxis": "y"
        },
        {
         "alignmentgroup": "True",
         "hovertemplate": "termos=%{x}<br>contagem=%{y}<extra></extra>",
         "legendgroup": "extra",
         "marker": {
          "color": "#FFA15A",
          "pattern": {
           "shape": ""
          }
         },
         "name": "extra",
         "offsetgroup": "extra",
         "orientation": "v",
         "showlegend": true,
         "textposition": "auto",
         "type": "bar",
         "x": [
          "extra"
         ],
         "xaxis": "x",
         "y": [
          16
         ],
         "yaxis": "y"
        },
        {
         "alignmentgroup": "True",
         "hovertemplate": "termos=%{x}<br>contagem=%{y}<extra></extra>",
         "legendgroup": "abril",
         "marker": {
          "color": "#19d3f3",
          "pattern": {
           "shape": ""
          }
         },
         "name": "abril",
         "offsetgroup": "abril",
         "orientation": "v",
         "showlegend": true,
         "textposition": "auto",
         "type": "bar",
         "x": [
          "abril"
         ],
         "xaxis": "x",
         "y": [
          14
         ],
         "yaxis": "y"
        },
        {
         "alignmentgroup": "True",
         "hovertemplate": "termos=%{x}<br>contagem=%{y}<extra></extra>",
         "legendgroup": "império",
         "marker": {
          "color": "#FF6692",
          "pattern": {
           "shape": ""
          }
         },
         "name": "império",
         "offsetgroup": "império",
         "orientation": "v",
         "showlegend": true,
         "textposition": "auto",
         "type": "bar",
         "x": [
          "império"
         ],
         "xaxis": "x",
         "y": [
          14
         ],
         "yaxis": "y"
        },
        {
         "alignmentgroup": "True",
         "hovertemplate": "termos=%{x}<br>contagem=%{y}<extra></extra>",
         "legendgroup": "janeiro",
         "marker": {
          "color": "#B6E880",
          "pattern": {
           "shape": ""
          }
         },
         "name": "janeiro",
         "offsetgroup": "janeiro",
         "orientation": "v",
         "showlegend": true,
         "textposition": "auto",
         "type": "bar",
         "x": [
          "janeiro"
         ],
         "xaxis": "x",
         "y": [
          12
         ],
         "yaxis": "y"
        },
        {
         "alignmentgroup": "True",
         "hovertemplate": "termos=%{x}<br>contagem=%{y}<extra></extra>",
         "legendgroup": "junho",
         "marker": {
          "color": "#FF97FF",
          "pattern": {
           "shape": ""
          }
         },
         "name": "junho",
         "offsetgroup": "junho",
         "orientation": "v",
         "showlegend": true,
         "textposition": "auto",
         "type": "bar",
         "x": [
          "junho"
         ],
         "xaxis": "x",
         "y": [
          12
         ],
         "yaxis": "y"
        },
        {
         "alignmentgroup": "True",
         "hovertemplate": "termos=%{x}<br>contagem=%{y}<extra></extra>",
         "legendgroup": "novembro",
         "marker": {
          "color": "#FECB52",
          "pattern": {
           "shape": ""
          }
         },
         "name": "novembro",
         "offsetgroup": "novembro",
         "orientation": "v",
         "showlegend": true,
         "textposition": "auto",
         "type": "bar",
         "x": [
          "novembro"
         ],
         "xaxis": "x",
         "y": [
          12
         ],
         "yaxis": "y"
        }
       ],
       "layout": {
        "barmode": "relative",
        "legend": {
         "title": {
          "text": "termos"
         },
         "tracegroupgap": 0
        },
        "template": {
         "data": {
          "bar": [
           {
            "error_x": {
             "color": "#2a3f5f"
            },
            "error_y": {
             "color": "#2a3f5f"
            },
            "marker": {
             "line": {
              "color": "#E5ECF6",
              "width": 0.5
             },
             "pattern": {
              "fillmode": "overlay",
              "size": 10,
              "solidity": 0.2
             }
            },
            "type": "bar"
           }
          ],
          "barpolar": [
           {
            "marker": {
             "line": {
              "color": "#E5ECF6",
              "width": 0.5
             },
             "pattern": {
              "fillmode": "overlay",
              "size": 10,
              "solidity": 0.2
             }
            },
            "type": "barpolar"
           }
          ],
          "carpet": [
           {
            "aaxis": {
             "endlinecolor": "#2a3f5f",
             "gridcolor": "white",
             "linecolor": "white",
             "minorgridcolor": "white",
             "startlinecolor": "#2a3f5f"
            },
            "baxis": {
             "endlinecolor": "#2a3f5f",
             "gridcolor": "white",
             "linecolor": "white",
             "minorgridcolor": "white",
             "startlinecolor": "#2a3f5f"
            },
            "type": "carpet"
           }
          ],
          "choropleth": [
           {
            "colorbar": {
             "outlinewidth": 0,
             "ticks": ""
            },
            "type": "choropleth"
           }
          ],
          "contour": [
           {
            "colorbar": {
             "outlinewidth": 0,
             "ticks": ""
            },
            "colorscale": [
             [
              0,
              "#0d0887"
             ],
             [
              0.1111111111111111,
              "#46039f"
             ],
             [
              0.2222222222222222,
              "#7201a8"
             ],
             [
              0.3333333333333333,
              "#9c179e"
             ],
             [
              0.4444444444444444,
              "#bd3786"
             ],
             [
              0.5555555555555556,
              "#d8576b"
             ],
             [
              0.6666666666666666,
              "#ed7953"
             ],
             [
              0.7777777777777778,
              "#fb9f3a"
             ],
             [
              0.8888888888888888,
              "#fdca26"
             ],
             [
              1,
              "#f0f921"
             ]
            ],
            "type": "contour"
           }
          ],
          "contourcarpet": [
           {
            "colorbar": {
             "outlinewidth": 0,
             "ticks": ""
            },
            "type": "contourcarpet"
           }
          ],
          "heatmap": [
           {
            "colorbar": {
             "outlinewidth": 0,
             "ticks": ""
            },
            "colorscale": [
             [
              0,
              "#0d0887"
             ],
             [
              0.1111111111111111,
              "#46039f"
             ],
             [
              0.2222222222222222,
              "#7201a8"
             ],
             [
              0.3333333333333333,
              "#9c179e"
             ],
             [
              0.4444444444444444,
              "#bd3786"
             ],
             [
              0.5555555555555556,
              "#d8576b"
             ],
             [
              0.6666666666666666,
              "#ed7953"
             ],
             [
              0.7777777777777778,
              "#fb9f3a"
             ],
             [
              0.8888888888888888,
              "#fdca26"
             ],
             [
              1,
              "#f0f921"
             ]
            ],
            "type": "heatmap"
           }
          ],
          "heatmapgl": [
           {
            "colorbar": {
             "outlinewidth": 0,
             "ticks": ""
            },
            "colorscale": [
             [
              0,
              "#0d0887"
             ],
             [
              0.1111111111111111,
              "#46039f"
             ],
             [
              0.2222222222222222,
              "#7201a8"
             ],
             [
              0.3333333333333333,
              "#9c179e"
             ],
             [
              0.4444444444444444,
              "#bd3786"
             ],
             [
              0.5555555555555556,
              "#d8576b"
             ],
             [
              0.6666666666666666,
              "#ed7953"
             ],
             [
              0.7777777777777778,
              "#fb9f3a"
             ],
             [
              0.8888888888888888,
              "#fdca26"
             ],
             [
              1,
              "#f0f921"
             ]
            ],
            "type": "heatmapgl"
           }
          ],
          "histogram": [
           {
            "marker": {
             "pattern": {
              "fillmode": "overlay",
              "size": 10,
              "solidity": 0.2
             }
            },
            "type": "histogram"
           }
          ],
          "histogram2d": [
           {
            "colorbar": {
             "outlinewidth": 0,
             "ticks": ""
            },
            "colorscale": [
             [
              0,
              "#0d0887"
             ],
             [
              0.1111111111111111,
              "#46039f"
             ],
             [
              0.2222222222222222,
              "#7201a8"
             ],
             [
              0.3333333333333333,
              "#9c179e"
             ],
             [
              0.4444444444444444,
              "#bd3786"
             ],
             [
              0.5555555555555556,
              "#d8576b"
             ],
             [
              0.6666666666666666,
              "#ed7953"
             ],
             [
              0.7777777777777778,
              "#fb9f3a"
             ],
             [
              0.8888888888888888,
              "#fdca26"
             ],
             [
              1,
              "#f0f921"
             ]
            ],
            "type": "histogram2d"
           }
          ],
          "histogram2dcontour": [
           {
            "colorbar": {
             "outlinewidth": 0,
             "ticks": ""
            },
            "colorscale": [
             [
              0,
              "#0d0887"
             ],
             [
              0.1111111111111111,
              "#46039f"
             ],
             [
              0.2222222222222222,
              "#7201a8"
             ],
             [
              0.3333333333333333,
              "#9c179e"
             ],
             [
              0.4444444444444444,
              "#bd3786"
             ],
             [
              0.5555555555555556,
              "#d8576b"
             ],
             [
              0.6666666666666666,
              "#ed7953"
             ],
             [
              0.7777777777777778,
              "#fb9f3a"
             ],
             [
              0.8888888888888888,
              "#fdca26"
             ],
             [
              1,
              "#f0f921"
             ]
            ],
            "type": "histogram2dcontour"
           }
          ],
          "mesh3d": [
           {
            "colorbar": {
             "outlinewidth": 0,
             "ticks": ""
            },
            "type": "mesh3d"
           }
          ],
          "parcoords": [
           {
            "line": {
             "colorbar": {
              "outlinewidth": 0,
              "ticks": ""
             }
            },
            "type": "parcoords"
           }
          ],
          "pie": [
           {
            "automargin": true,
            "type": "pie"
           }
          ],
          "scatter": [
           {
            "marker": {
             "colorbar": {
              "outlinewidth": 0,
              "ticks": ""
             }
            },
            "type": "scatter"
           }
          ],
          "scatter3d": [
           {
            "line": {
             "colorbar": {
              "outlinewidth": 0,
              "ticks": ""
             }
            },
            "marker": {
             "colorbar": {
              "outlinewidth": 0,
              "ticks": ""
             }
            },
            "type": "scatter3d"
           }
          ],
          "scattercarpet": [
           {
            "marker": {
             "colorbar": {
              "outlinewidth": 0,
              "ticks": ""
             }
            },
            "type": "scattercarpet"
           }
          ],
          "scattergeo": [
           {
            "marker": {
             "colorbar": {
              "outlinewidth": 0,
              "ticks": ""
             }
            },
            "type": "scattergeo"
           }
          ],
          "scattergl": [
           {
            "marker": {
             "colorbar": {
              "outlinewidth": 0,
              "ticks": ""
             }
            },
            "type": "scattergl"
           }
          ],
          "scattermapbox": [
           {
            "marker": {
             "colorbar": {
              "outlinewidth": 0,
              "ticks": ""
             }
            },
            "type": "scattermapbox"
           }
          ],
          "scatterpolar": [
           {
            "marker": {
             "colorbar": {
              "outlinewidth": 0,
              "ticks": ""
             }
            },
            "type": "scatterpolar"
           }
          ],
          "scatterpolargl": [
           {
            "marker": {
             "colorbar": {
              "outlinewidth": 0,
              "ticks": ""
             }
            },
            "type": "scatterpolargl"
           }
          ],
          "scatterternary": [
           {
            "marker": {
             "colorbar": {
              "outlinewidth": 0,
              "ticks": ""
             }
            },
            "type": "scatterternary"
           }
          ],
          "surface": [
           {
            "colorbar": {
             "outlinewidth": 0,
             "ticks": ""
            },
            "colorscale": [
             [
              0,
              "#0d0887"
             ],
             [
              0.1111111111111111,
              "#46039f"
             ],
             [
              0.2222222222222222,
              "#7201a8"
             ],
             [
              0.3333333333333333,
              "#9c179e"
             ],
             [
              0.4444444444444444,
              "#bd3786"
             ],
             [
              0.5555555555555556,
              "#d8576b"
             ],
             [
              0.6666666666666666,
              "#ed7953"
             ],
             [
              0.7777777777777778,
              "#fb9f3a"
             ],
             [
              0.8888888888888888,
              "#fdca26"
             ],
             [
              1,
              "#f0f921"
             ]
            ],
            "type": "surface"
           }
          ],
          "table": [
           {
            "cells": {
             "fill": {
              "color": "#EBF0F8"
             },
             "line": {
              "color": "white"
             }
            },
            "header": {
             "fill": {
              "color": "#C8D4E3"
             },
             "line": {
              "color": "white"
             }
            },
            "type": "table"
           }
          ]
         },
         "layout": {
          "annotationdefaults": {
           "arrowcolor": "#2a3f5f",
           "arrowhead": 0,
           "arrowwidth": 1
          },
          "autotypenumbers": "strict",
          "coloraxis": {
           "colorbar": {
            "outlinewidth": 0,
            "ticks": ""
           }
          },
          "colorscale": {
           "diverging": [
            [
             0,
             "#8e0152"
            ],
            [
             0.1,
             "#c51b7d"
            ],
            [
             0.2,
             "#de77ae"
            ],
            [
             0.3,
             "#f1b6da"
            ],
            [
             0.4,
             "#fde0ef"
            ],
            [
             0.5,
             "#f7f7f7"
            ],
            [
             0.6,
             "#e6f5d0"
            ],
            [
             0.7,
             "#b8e186"
            ],
            [
             0.8,
             "#7fbc41"
            ],
            [
             0.9,
             "#4d9221"
            ],
            [
             1,
             "#276419"
            ]
           ],
           "sequential": [
            [
             0,
             "#0d0887"
            ],
            [
             0.1111111111111111,
             "#46039f"
            ],
            [
             0.2222222222222222,
             "#7201a8"
            ],
            [
             0.3333333333333333,
             "#9c179e"
            ],
            [
             0.4444444444444444,
             "#bd3786"
            ],
            [
             0.5555555555555556,
             "#d8576b"
            ],
            [
             0.6666666666666666,
             "#ed7953"
            ],
            [
             0.7777777777777778,
             "#fb9f3a"
            ],
            [
             0.8888888888888888,
             "#fdca26"
            ],
            [
             1,
             "#f0f921"
            ]
           ],
           "sequentialminus": [
            [
             0,
             "#0d0887"
            ],
            [
             0.1111111111111111,
             "#46039f"
            ],
            [
             0.2222222222222222,
             "#7201a8"
            ],
            [
             0.3333333333333333,
             "#9c179e"
            ],
            [
             0.4444444444444444,
             "#bd3786"
            ],
            [
             0.5555555555555556,
             "#d8576b"
            ],
            [
             0.6666666666666666,
             "#ed7953"
            ],
            [
             0.7777777777777778,
             "#fb9f3a"
            ],
            [
             0.8888888888888888,
             "#fdca26"
            ],
            [
             1,
             "#f0f921"
            ]
           ]
          },
          "colorway": [
           "#636efa",
           "#EF553B",
           "#00cc96",
           "#ab63fa",
           "#FFA15A",
           "#19d3f3",
           "#FF6692",
           "#B6E880",
           "#FF97FF",
           "#FECB52"
          ],
          "font": {
           "color": "#2a3f5f"
          },
          "geo": {
           "bgcolor": "white",
           "lakecolor": "white",
           "landcolor": "#E5ECF6",
           "showlakes": true,
           "showland": true,
           "subunitcolor": "white"
          },
          "hoverlabel": {
           "align": "left"
          },
          "hovermode": "closest",
          "mapbox": {
           "style": "light"
          },
          "paper_bgcolor": "white",
          "plot_bgcolor": "#E5ECF6",
          "polar": {
           "angularaxis": {
            "gridcolor": "white",
            "linecolor": "white",
            "ticks": ""
           },
           "bgcolor": "#E5ECF6",
           "radialaxis": {
            "gridcolor": "white",
            "linecolor": "white",
            "ticks": ""
           }
          },
          "scene": {
           "xaxis": {
            "backgroundcolor": "#E5ECF6",
            "gridcolor": "white",
            "gridwidth": 2,
            "linecolor": "white",
            "showbackground": true,
            "ticks": "",
            "zerolinecolor": "white"
           },
           "yaxis": {
            "backgroundcolor": "#E5ECF6",
            "gridcolor": "white",
            "gridwidth": 2,
            "linecolor": "white",
            "showbackground": true,
            "ticks": "",
            "zerolinecolor": "white"
           },
           "zaxis": {
            "backgroundcolor": "#E5ECF6",
            "gridcolor": "white",
            "gridwidth": 2,
            "linecolor": "white",
            "showbackground": true,
            "ticks": "",
            "zerolinecolor": "white"
           }
          },
          "shapedefaults": {
           "line": {
            "color": "#2a3f5f"
           }
          },
          "ternary": {
           "aaxis": {
            "gridcolor": "white",
            "linecolor": "white",
            "ticks": ""
           },
           "baxis": {
            "gridcolor": "white",
            "linecolor": "white",
            "ticks": ""
           },
           "bgcolor": "#E5ECF6",
           "caxis": {
            "gridcolor": "white",
            "linecolor": "white",
            "ticks": ""
           }
          },
          "title": {
           "x": 0.05
          },
          "xaxis": {
           "automargin": true,
           "gridcolor": "white",
           "linecolor": "white",
           "ticks": "",
           "title": {
            "standoff": 15
           },
           "zerolinecolor": "white",
           "zerolinewidth": 2
          },
          "yaxis": {
           "automargin": true,
           "gridcolor": "white",
           "linecolor": "white",
           "ticks": "",
           "title": {
            "standoff": 15
           },
           "zerolinecolor": "white",
           "zerolinewidth": 2
          }
         }
        },
        "title": {
         "text": "Os 20 termos que mais aparecem na página"
        },
        "xaxis": {
         "anchor": "y",
         "categoryarray": [
          "prêmio",
          "ator",
          "nero",
          "consultado",
          "melhor",
          "alexandre",
          "tv",
          "novela",
          "ano",
          "televisão",
          "contigo",
          "indicado",
          "melhores",
          "venceu",
          "extra",
          "abril",
          "império",
          "janeiro",
          "junho",
          "novembro"
         ],
         "categoryorder": "array",
         "domain": [
          0,
          1
         ],
         "title": {
          "text": "termos"
         }
        },
        "yaxis": {
         "anchor": "x",
         "domain": [
          0,
          1
         ],
         "title": {
          "text": "contagem"
         }
        }
       }
      }
     },
     "metadata": {},
     "output_type": "display_data"
    }
   ],
   "source": [
    "webtext.word_count()\n",
    "webtext.driver.quit()"
   ]
  }
 ],
 "metadata": {
  "interpreter": {
   "hash": "47bceb12b9067ff81d0ae3bb1b044ad8d9cc617c3fd6c766eb8dd910e2651afa"
  },
  "kernelspec": {
   "display_name": "Python 3.9.7 ('nlp_env': venv)",
   "language": "python",
   "name": "python3"
  },
  "language_info": {
   "codemirror_mode": {
    "name": "ipython",
    "version": 3
   },
   "file_extension": ".py",
   "mimetype": "text/x-python",
   "name": "python",
   "nbconvert_exporter": "python",
   "pygments_lexer": "ipython3",
   "version": "3.9.7"
  },
  "orig_nbformat": 4
 },
 "nbformat": 4,
 "nbformat_minor": 2
}
